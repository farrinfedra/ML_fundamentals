{
 "cells": [
  {
   "cell_type": "markdown",
   "id": "7b043a62",
   "metadata": {},
   "source": [
    "# HW6\n",
    "## Farrin Marouf Sofian"
   ]
  },
  {
   "cell_type": "code",
   "execution_count": 85,
   "id": "feea9940",
   "metadata": {},
   "outputs": [],
   "source": [
    "import cvxopt as cvx\n",
    "import matplotlib.pyplot as plt\n",
    "import numpy as np\n",
    "import math\n",
    "import scipy.spatial.distance as dt\n",
    "import pandas as pd"
   ]
  },
  {
   "cell_type": "code",
   "execution_count": 3,
   "id": "a5e90ccd",
   "metadata": {},
   "outputs": [],
   "source": [
    "data_set_images = np.genfromtxt(\"hw06_images.csv\", delimiter = \",\")\n",
    "data_set_labels = np.genfromtxt(\"hw06_labels.csv\", delimiter = \"\\n\")"
   ]
  },
  {
   "cell_type": "code",
   "execution_count": 100,
   "id": "928098b5",
   "metadata": {},
   "outputs": [
    {
     "name": "stdout",
     "output_type": "stream",
     "text": [
      "5\n"
     ]
    }
   ],
   "source": [
    "# training dataset\n",
    "x_train = data_set_images[0:1000,:]\n",
    "y_train = data_set_labels[0:1000].astype(int)\n",
    "\n",
    "#testing dataset\n",
    "x_test = data_set_images[1000:5000, :]\n",
    "y_test = data_set_labels[1000:5000].astype(int)\n",
    "\n",
    "\n",
    "N = x_train.shape[0]\n",
    "D = x_train.shape[1]\n",
    "K = np.max(y_train)\n",
    "N_test = x_test.shape[0]\n"
   ]
  },
  {
   "cell_type": "code",
   "execution_count": 116,
   "id": "1ef4e831",
   "metadata": {},
   "outputs": [],
   "source": [
    "y_train1 = np.negative(np.ones((N))).astype(int)\n",
    "y_train2 = np.negative(np.ones((N))).astype(int)\n",
    "y_train3 = np.negative(np.ones((N))).astype(int)\n",
    "y_train4 = np.negative(np.ones((N))).astype(int)\n",
    "y_train5 = np.negative(np.ones((N))).astype(int)\n",
    "\n",
    "for i in range(N):\n",
    "    if y_train[i] == 1:\n",
    "        y_train1[i] = 1\n",
    "    if y_train[i] == 2:\n",
    "        y_train2[i] = 1\n",
    "    if y_train[i] == 3:\n",
    "        y_train3[i] = 1\n",
    "    if y_train[i] == 4:\n",
    "        y_train4[i] = 1\n",
    "    if y_train[i] == 5:\n",
    "        y_train5[i] = 1\n",
    "\n",
    "N_train = len(y_train)\n",
    "N_test = len(y_test)"
   ]
  },
  {
   "cell_type": "code",
   "execution_count": 115,
   "id": "723eb22e",
   "metadata": {},
   "outputs": [],
   "source": [
    "y_test1 = np.negative(np.ones((N_test))).astype(int)\n",
    "y_test2 = np.negative(np.ones((N_test))).astype(int)\n",
    "y_test3 = np.negative(np.ones((N_test))).astype(int)\n",
    "y_test4 = np.negative(np.ones((N_test))).astype(int)\n",
    "y_test5 = np.negative(np.ones((N_test))).astype(int)\n",
    "\n",
    "for i in range(N_test):\n",
    "    if y_test[i] == 1:\n",
    "        y_test1[i] = 1\n",
    "    if y_test[i] == 2:\n",
    "        y_test2[i] = 1\n",
    "    if y_test[i] == 3:\n",
    "        y_test3[i] = 1\n",
    "    if y_test[i] == 4:\n",
    "        y_test4[i] = 1\n",
    "    if y_test[i] == 5:\n",
    "        y_test5[i] = 1"
   ]
  },
  {
   "cell_type": "markdown",
   "id": "23d94f15",
   "metadata": {},
   "source": [
    "## Distance and Kernel Functions"
   ]
  },
  {
   "cell_type": "markdown",
   "id": "38c359e1",
   "metadata": {},
   "source": [
    " $\\begin{equation}\n",
    "    \\begin{split}\n",
    "        d(\\boldsymbol{x}_{i}, \\boldsymbol{x}_{j}) &= ||\\boldsymbol{x}_{i} - \\boldsymbol{x}_{j}||_{2} = \\sqrt{(\\boldsymbol{x}_{i} - \\boldsymbol{x}_{j})^{\\top} (\\boldsymbol{x}_{i} - \\boldsymbol{x}_{j})} = \\sqrt{\\sum\\limits_{d = 1}^{D}(x_{id} - x_{jd})^{2}} \\\\\n",
    "        k(\\boldsymbol{x}_{i}, \\boldsymbol{x}_{j}) &= \\exp\\left(-\\dfrac{||\\boldsymbol{x}_{i} -\\boldsymbol{x}_{j}||_{2}^{2}}{2s^{2}}\\right)\n",
    "    \\end{split}\n",
    "\\end{equation}$"
   ]
  },
  {
   "cell_type": "code",
   "execution_count": 48,
   "id": "e09c04fa",
   "metadata": {},
   "outputs": [],
   "source": [
    "# define Gaussian kernel function\n",
    "\n",
    "#This is different from Gaussian density, this is not normalized\n",
    "#The integration will not result in 1. there is no 1/2pi coefficient here.\n",
    "def gaussian_kernel(X1, X2, s): #same for all classes\n",
    "\n",
    "    D = dt.cdist(X1, X2)\n",
    "    K = np.exp(-D**2 / (2 * s**2))\n",
    "    return(K)"
   ]
  },
  {
   "cell_type": "code",
   "execution_count": 49,
   "id": "7c031356",
   "metadata": {},
   "outputs": [
    {
     "data": {
      "text/plain": [
       "(1000,)"
      ]
     },
     "execution_count": 49,
     "metadata": {},
     "output_type": "execute_result"
    }
   ],
   "source": [
    "y_train.shape"
   ]
  },
  {
   "cell_type": "code",
   "execution_count": 87,
   "id": "5e1dc43a",
   "metadata": {},
   "outputs": [],
   "source": [
    "def yyk_calculator(y, kernel)\n",
    "    yyK = np.matmul(y[:,None], y[None,:]) * kernel\n",
    "                    #(200, 1)   #(1, 200)\n",
    "    return yyK\n",
    "\n",
    "def get_num_sample(y)\n",
    "    # get number of samples and number of features\n",
    "    N_set = len(y)\n",
    "    return N_set\n",
    "\n",
    "\n",
    "D_train = x_train.shape[1]"
   ]
  },
  {
   "cell_type": "code",
   "execution_count": 113,
   "id": "b5864799",
   "metadata": {},
   "outputs": [],
   "source": [
    "def one_versus_all(C, x, y):\n",
    "    # calculate Gaussian kernel\n",
    "    s = 10 #width parameter of 1\n",
    "    kernel = gaussian_kernel(x, x, s)\n",
    "    yyK = yyk_calculator(y, kernel)\n",
    "    N_set = get_num_sample(y)                \n",
    "    \n",
    "    epsilon = 1e-3\n",
    "\n",
    "    #we are doing optimization with respect to alpha.\n",
    "    P = cvx.matrix(yyK) #alphas are quadratic. #this is a quadratic programming.\n",
    "    q = cvx.matrix(-np.ones((N_set, 1)))\n",
    "    G = cvx.matrix(np.vstack((-np.eye(N_set), np.eye(N_set))))\n",
    "    h = cvx.matrix(np.vstack((np.zeros((N_set, 1)), C * np.ones((N_set, 1)))))\n",
    "    A = cvx.matrix(1.0 * y[None,:])\n",
    "    b = cvx.matrix(0.0)\n",
    "                    \n",
    "    # use cvxopt library to solve QP problems\n",
    "    result = cvx.solvers.qp(P, q, G, h, A, b)\n",
    "    alpha = np.reshape(result[\"x\"], N_set)\n",
    "    alpha[alpha < C * epsilon] = 0\n",
    "    alpha[alpha > C * (1 - epsilon)] = C\n",
    "\n",
    "    # find bias parameter\n",
    "    support_indices, = np.where(alpha != 0) #the data points with non zero alpha coefficients are support indecies\n",
    "    active_indices, = np.where(np.logical_and(alpha != 0, alpha < C))\n",
    "    w0 = np.mean(y[active_indices] * (1 - np.matmul(yyK[np.ix_(active_indices, support_indices)], alpha[support_indices])))\n",
    "    return (np.matmul(kernel, y[:,None] * alpha[:,None]) + w0) #calculated prediction"
   ]
  },
  {
   "cell_type": "code",
   "execution_count": null,
   "id": "c4aeb823",
   "metadata": {},
   "outputs": [],
   "source": [
    "f_prediction1 = f_class_prediction()\n",
    "\n",
    "confusion_matrix = pd.crosstab(np.reshape(y_predicted, N_train), y_train, rownames = ['y_predicted'], colnames = ['y_train'])\n",
    "print(confusion_matrix)"
   ]
  },
  {
   "cell_type": "code",
   "execution_count": 88,
   "id": "5ca0dfd3",
   "metadata": {},
   "outputs": [
    {
     "name": "stdout",
     "output_type": "stream",
     "text": [
      "y_train        1    2    3    4    5\n",
      "y_predicted                         \n",
      "1            207    1    0    9    0\n",
      "2              2  199    1    1    0\n",
      "3              0    1  204    6    0\n",
      "4              0    1    4  185    1\n",
      "5              0    0    0    0  178\n"
     ]
    }
   ],
   "source": [
    "# calculate confusion matrix\n",
    "confusion_matrix = pd.crosstab(np.reshape(y_predicted, N_train), y_train, rownames = ['y_predicted'], colnames = ['y_train'])\n",
    "print(confusion_matrix)"
   ]
  },
  {
   "cell_type": "markdown",
   "id": "1c697261",
   "metadata": {},
   "source": [
    "# For test set"
   ]
  },
  {
   "cell_type": "code",
   "execution_count": 104,
   "id": "0c2a1e42",
   "metadata": {},
   "outputs": [
    {
     "data": {
      "text/plain": [
       "array([5, 3, 1, ..., 5, 4, 4])"
      ]
     },
     "execution_count": 104,
     "metadata": {},
     "output_type": "execute_result"
    }
   ],
   "source": [
    "y_test"
   ]
  },
  {
   "cell_type": "code",
   "execution_count": 109,
   "id": "ff203886",
   "metadata": {},
   "outputs": [],
   "source": []
  },
  {
   "cell_type": "code",
   "execution_count": 110,
   "id": "13bf901f",
   "metadata": {},
   "outputs": [],
   "source": []
  }
 ],
 "metadata": {
  "kernelspec": {
   "display_name": "Python 3 (ipykernel)",
   "language": "python",
   "name": "python3"
  },
  "language_info": {
   "codemirror_mode": {
    "name": "ipython",
    "version": 3
   },
   "file_extension": ".py",
   "mimetype": "text/x-python",
   "name": "python",
   "nbconvert_exporter": "python",
   "pygments_lexer": "ipython3",
   "version": "3.8.2"
  }
 },
 "nbformat": 4,
 "nbformat_minor": 5
}
