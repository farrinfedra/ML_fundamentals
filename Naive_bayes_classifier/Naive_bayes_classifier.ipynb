{
 "cells": [
  {
   "cell_type": "markdown",
   "id": "b6edc978",
   "metadata": {},
   "source": []
  },
  {
   "cell_type": "code",
   "execution_count": 135,
   "id": "8e43de9d",
   "metadata": {},
   "outputs": [],
   "source": [
    "import matplotlib.pyplot as plt\n",
    "import numpy as np\n",
    "import math\n",
    "from pandas import crosstab\n",
    "\n",
    "def safelog(x):\n",
    "    return np.log(x + 1e-100)"
   ]
  },
  {
   "cell_type": "code",
   "execution_count": 136,
   "id": "030b93b8",
   "metadata": {},
   "outputs": [
    {
     "name": "stdout",
     "output_type": "stream",
     "text": [
      "(35000, 784)\n"
     ]
    }
   ],
   "source": [
    "data_set_images = np.genfromtxt(\"Naive_bayes_classifier_images.csv\", delimiter = \",\")\n",
    "data_set_labels = np.genfromtxt(\"Naive_bayes_classifier_labels.csv\", delimiter = \"\\n\")\n",
    "\n",
    "print(data_set_images.shape)\n",
    "#print(data_set_labels.T)"
   ]
  },
  {
   "cell_type": "code",
   "execution_count": 149,
   "id": "0f527d7c",
   "metadata": {},
   "outputs": [
    {
     "name": "stdout",
     "output_type": "stream",
     "text": [
      "30000\n"
     ]
    }
   ],
   "source": [
    "# training dataset\n",
    "train_set_x = data_set_images[0:30000,:]\n",
    "train_set_y = data_set_labels[0:30000].astype(int)\n",
    "\n",
    "#print(train_set_y.shape)\n",
    "#testing dataset\n",
    "test_set_x = data_set_images[30000:35000, :]\n",
    "test_set_y = data_set_labels[30000:35000].astype(int)\n",
    "\n",
    "#print(test_set_x.shape)\n",
    "\n",
    "N = train_set_x.shape[0]\n",
    "D = train_set_x.shape[1]\n",
    "K = np.max(train_set_y)"
   ]
  },
  {
   "cell_type": "markdown",
   "id": "f01bc4aa",
   "metadata": {},
   "source": [
    "## Mean"
   ]
  },
  {
   "cell_type": "code",
   "execution_count": 138,
   "id": "2f04743f",
   "metadata": {},
   "outputs": [
    {
     "name": "stdout",
     "output_type": "stream",
     "text": [
      "[[254.99866689 254.98416931 254.85619063 ... 254.67905349 254.87818697\n",
      "  254.95934011]\n",
      " [254.99733333 254.99733333 254.9965     ... 254.96883333 254.99216667\n",
      "  254.98866667]\n",
      " [254.99933333 254.99933333 254.99233333 ... 251.52483333 254.4725\n",
      "  254.97483333]\n",
      " [254.99666611 254.98983164 254.91415236 ... 252.39473246 254.4415736\n",
      "  254.93665611]\n",
      " [254.999      254.98433333 254.93783333 ... 250.673      253.23333333\n",
      "  254.79083333]]\n"
     ]
    }
   ],
   "source": [
    "sample_means = np.array((np.mean(train_set_x[train_set_y == 1], axis = 0),\n",
    "                            np.mean(train_set_x[train_set_y == 2], axis = 0),\n",
    "                            np.mean(train_set_x[train_set_y == 3], axis = 0),\n",
    "                            np.mean(train_set_x[train_set_y == 4], axis = 0),\n",
    "                            np.mean(train_set_x[train_set_y == 5], axis = 0))).T\n",
    "print(sample_mean)                           "
   ]
  },
  {
   "cell_type": "markdown",
   "id": "e5d04c0d",
   "metadata": {},
   "source": [
    "## Standard Deviation"
   ]
  },
  {
   "cell_type": "code",
   "execution_count": 139,
   "id": "d0d3d5d3",
   "metadata": {},
   "outputs": [
    {
     "name": "stdout",
     "output_type": "stream",
     "text": [
      "[[ 0.09127736  0.2065419   0.05163547  0.18436076  0.04471018]\n",
      " [ 0.25609108  0.2065419   0.04081939  0.21617116  0.64582342]\n",
      " [ 1.31090756  0.2163818   0.16002465  1.81046936  3.03248555]\n",
      " ...\n",
      " [ 5.29826629  1.04076669 18.43665868 15.67799977 23.62576428]\n",
      " [ 3.9117332   0.47057267  6.7881694   6.34549162 13.9167006 ]\n",
      " [ 1.93959091  0.70062226  1.1061344   1.79971911  4.4727787 ]]\n"
     ]
    }
   ],
   "source": [
    "sample_deviations = np.array((\n",
    "                        np.std(train_set_x[train_set_y == 1], axis = 0),\n",
    "                        np.std(train_set_x[train_set_y == 2], axis = 0),\n",
    "                        np.std(train_set_x[train_set_y == 3], axis = 0),\n",
    "                        np.std(train_set_x[train_set_y == 4], axis = 0),\n",
    "                        np.std(train_set_x[train_set_y == 5], axis = 0))).T\n",
    "print(sample_deviations)"
   ]
  },
  {
   "cell_type": "markdown",
   "id": "2c259119",
   "metadata": {},
   "source": [
    " ## Priors"
   ]
  },
  {
   "cell_type": "code",
   "execution_count": 140,
   "id": "60e66e17",
   "metadata": {},
   "outputs": [
    {
     "name": "stdout",
     "output_type": "stream",
     "text": [
      "[0.2, 0.2, 0.2, 0.2, 0.2]\n"
     ]
    }
   ],
   "source": [
    "class_priors = np.array([np.mean(train_set_y == (c + 1)) for c in range(K)])\n",
    "print([np.mean(train_set_y == (c + 1)) for c in range(K)])"
   ]
  },
  {
   "cell_type": "code",
   "execution_count": 141,
   "id": "37241e06",
   "metadata": {},
   "outputs": [],
   "source": [
    "def score_function(x):\n",
    "    constants = -D/2 * np.log(2 * math.pi)\n",
    "    #sum_log_std = [np.sum(safelog(sample_deviations[:, c])) for c in range(K)]\n",
    "    #sum_log_exp = [np.sum(((x - sample_means[:, c]) ** 2) / (2 * (sample_deviations[:, c] ** 2))) for c in range(K)]\n",
    "    total = [\n",
    "            - np.sum(safelog(sample_deviations[:, c]))\n",
    "            - np.sum(((x - sample_means[:, c]) ** 2) / (2 * (sample_deviations[:, c] ** 2)))\n",
    "            + np.log(class_priors[c]) + constants\n",
    "        for c in range(K)\n",
    "    \n",
    "    ]\n",
    "    return total\n",
    "                     "
   ]
  },
  {
   "cell_type": "code",
   "execution_count": 142,
   "id": "982f9ee9",
   "metadata": {},
   "outputs": [
    {
     "name": "stdout",
     "output_type": "stream",
     "text": [
      "[3 1 2 ... 1 3 5]\n"
     ]
    }
   ],
   "source": [
    "train_scores_y = [score_function(x) for x in train_set_x]\n",
    "#print(train_scores_y)\n",
    "pred_y = np.argmax(train_scores_y, axis = 1) + 1\n",
    "print(pred_y)"
   ]
  },
  {
   "cell_type": "code",
   "execution_count": 143,
   "id": "fbd6b891",
   "metadata": {},
   "outputs": [
    {
     "name": "stdout",
     "output_type": "stream",
     "text": [
      "y_truth     1     2     3     4     5\n",
      "y_pred                               \n",
      "1        3685    49     4   679     6\n",
      "2        1430  5667  1140  1380   532\n",
      "3         508   208  4670  2948   893\n",
      "4         234    60   123   687   180\n",
      "5         143    16    63   306  4389\n"
     ]
    }
   ],
   "source": [
    "print(crosstab(pred_y, train_set_y, rownames=[\"y_pred\"], colnames=[\"y_truth\"]))"
   ]
  },
  {
   "cell_type": "code",
   "execution_count": 147,
   "id": "1b77626b",
   "metadata": {},
   "outputs": [
    {
     "name": "stdout",
     "output_type": "stream",
     "text": [
      "[1 2 5 ... 3 5 5]\n"
     ]
    }
   ],
   "source": [
    "test_scores_y = [score_function(x) for x in test_set_x]\n",
    "#print(train_scores_y)\n",
    "pred_test_y = np.argmax(test_scores_y, axis = 1) + 1\n",
    "print(pred_test_y)"
   ]
  },
  {
   "cell_type": "code",
   "execution_count": 148,
   "id": "6b4e23e9",
   "metadata": {},
   "outputs": [
    {
     "name": "stdout",
     "output_type": "stream",
     "text": [
      "y_truth    1    2    3    4    5\n",
      "y_pred                          \n",
      "1        597    6    0  114    1\n",
      "2        237  955  188  267   81\n",
      "3         92   25  785  462  167\n",
      "4         34   11   16  109   29\n",
      "5         40    3   11   48  722\n"
     ]
    }
   ],
   "source": [
    "print(crosstab(pred_test_y, test_set_y, rownames=[\"y_pred\"], colnames=[\"y_truth\"]))"
   ]
  }
 ],
 "metadata": {
  "kernelspec": {
   "display_name": "Python 3 (ipykernel)",
   "language": "python",
   "name": "python3"
  },
  "language_info": {
   "codemirror_mode": {
    "name": "ipython",
    "version": 3
   },
   "file_extension": ".py",
   "mimetype": "text/x-python",
   "name": "python",
   "nbconvert_exporter": "python",
   "pygments_lexer": "ipython3",
   "version": "3.8.2"
  }
 },
 "nbformat": 4,
 "nbformat_minor": 5
}