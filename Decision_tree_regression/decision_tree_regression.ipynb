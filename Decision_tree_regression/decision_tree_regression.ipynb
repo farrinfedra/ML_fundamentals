{
 "cells": [
  {
   "cell_type": "code",
   "execution_count": 57,
   "id": "45032a2c",
   "metadata": {},
   "outputs": [],
   "source": [
    "import numpy as np\n",
    "import pandas as pd\n",
    "from matplotlib import pyplot as plt\n",
    "\n",
    "def safelog2(x):\n",
    "    if x == 0:\n",
    "        return(0)\n",
    "    else:\n",
    "        return(np.log2(x))"
   ]
  },
  {
   "cell_type": "code",
   "execution_count": 58,
   "id": "4589ba64",
   "metadata": {},
   "outputs": [],
   "source": [
    "data = np.genfromtxt(\"decision_tree_regression_data_set.csv\", delimiter = \",\",skip_header = 1)\n",
    "\n",
    "x_train = data[:150, 0]\n",
    "y_train = data[:150, 1].astype(int)\n",
    "\n",
    "\n",
    "x_test = data[150:, 0]\n",
    "y_test = data[150:, 1].astype(int)\n",
    "\n",
    "N_train = len(y_train)\n",
    "N_test = len(y_test)\n"
   ]
  },
  {
   "cell_type": "code",
   "execution_count": 59,
   "id": "be4ad5e7",
   "metadata": {},
   "outputs": [],
   "source": [
    "def decision_tree(P):\n",
    "    #initilazation\n",
    "\n",
    "    # create necessary data structures\n",
    "    node_indices = {}\n",
    "    is_terminal = {}\n",
    "    need_split = {}\n",
    "\n",
    "    node_splits = {}\n",
    "    node_predictions = {}\n",
    "\n",
    "    # put all training instances into the root node\n",
    "    node_indices[1] = np.array(range(N_train))\n",
    "    is_terminal[1] = False\n",
    "    need_split[1] = True\n",
    "    while True:\n",
    "        split_nodes = [key for key, value in need_split.items() if value == True]\n",
    "\n",
    "        if len(split_nodes) == 0:\n",
    "            break\n",
    "\n",
    "        for split_node in split_nodes:\n",
    "            data_indices = node_indices[split_node]\n",
    "\n",
    "            need_split[split_node] = False\n",
    "            is_terminal[split_node] = False\n",
    "\n",
    "            unique_values = np.sort(np.unique(x_train[data_indices]))\n",
    "            split_positions = (unique_values[:-1] + unique_values[1:]) / 2\n",
    "            split_scores = np.repeat(0.0, len(split_positions))\n",
    "\n",
    "            for s in range(len(split_positions)):\n",
    "                left_indices = data_indices[x_train[data_indices] <= split_positions[s]]\n",
    "                right_indices = data_indices[x_train[data_indices] > split_positions[s]]\n",
    "                split_scores[s] = (1/len(data_indices))*(np.sum((y_train[left_indices] - np.mean(y_train[left_indices]))**2) + \n",
    "                                                         np.sum((y_train[right_indices] - np.mean(y_train[right_indices]))**2))\n",
    "            best_score = np.min(split_scores)\n",
    "            best_split = split_positions[np.argmin(split_scores)]\n",
    "\n",
    "            node_splits[split_node] = best_split\n",
    "\n",
    "            # create left node using the selected split\n",
    "            left_indices = data_indices[x_train[data_indices] <= best_split]\n",
    "            node_indices[2 * split_node] = left_indices\n",
    "            if len(node_indices[2 * split_node]) <= P:\n",
    "                node_predictions[2 * split_node] = np.mean(y_train[left_indices])\n",
    "                is_terminal[2 * split_node] = True\n",
    "                need_split[2 * split_node] = False\n",
    "            else:\n",
    "                is_terminal[2 * split_node] = False\n",
    "                need_split[2 * split_node] = True\n",
    "\n",
    "            # create right node using the selected split\n",
    "            right_indices = data_indices[x_train[data_indices] > best_split]\n",
    "            node_indices[2 * split_node + 1] = right_indices\n",
    "            if len(node_indices[2 * split_node + 1]) <= P:\n",
    "                node_predictions[2 * split_node + 1] = np.mean(y_train[right_indices])\n",
    "                is_terminal[2 * split_node + 1] = True\n",
    "                need_split[2 * split_node + 1] = False\n",
    "            else:\n",
    "                is_terminal[2 * split_node + 1] = False\n",
    "                need_split[2 * split_node + 1] = True\n",
    "    return is_terminal, node_splits, node_predictions\n",
    "                \n"
   ]
  },
  {
   "cell_type": "code",
   "execution_count": 68,
   "id": "8f4646a4",
   "metadata": {},
   "outputs": [
    {
     "data": {
      "image/png": "[encoded data removed]",
      "text/plain": [
       "<Figure size 864x360 with 1 Axes>"
      ]
     },
     "metadata": {
      "needs_background": "light"
     },
     "output_type": "display_data"
    }
   ],
   "source": [
    "P = 25\n",
    "\n",
    "is_terminal, node_splits, node_predictions = decision_tree(P)\n",
    "data_interval = np.linspace(1.5, 5.25, 376)\n",
    "y_graph = np.repeat(0.0 , len(data_interval))\n",
    "\n",
    "for i in range(len(data_interval)):\n",
    "    index = 1\n",
    "    while True:\n",
    "        if is_terminal[index] == True:\n",
    "            y_graph[i] = node_predictions[index]\n",
    "            break\n",
    "        else:\n",
    "            if data_interval[i] <= node_splits[index]:\n",
    "                index = index * 2\n",
    "            else:\n",
    "                index = index * 2 + 1\n",
    "\n",
    "plt.figure(figsize = (12, 5))\n",
    "plt.plot(x_train, y_train, \"bo\", label = \"training\")\n",
    "plt.plot(x_test, y_test, \"ro\", label = \"test\")\n",
    "plt.plot(data_interval, y_graph, \"k\")\n",
    "plt.title(f\"P = {25}\")\n",
    "plt.xlabel('Eruption time (min)')\n",
    "plt.ylabel('Waiting time to next eruption (min)')\n",
    "plt.legend()\n",
    "plt.show()"
   ]
  },
  {
   "cell_type": "code",
   "execution_count": 78,
   "id": "e6dc8de5",
   "metadata": {},
   "outputs": [
    {
     "name": "stdout",
     "output_type": "stream",
     "text": [
      "RMSE is 4.541214189194451 when P is 25\n"
     ]
    }
   ],
   "source": [
    "y_predicted = np.repeat(0.0 , len(y_train))\n",
    "\n",
    "for i in range(len(y_train)):\n",
    "    index = 1\n",
    "    while True:\n",
    "        if is_terminal[index] == True:\n",
    "            y_predicted[i] = node_predictions[index]\n",
    "            break\n",
    "        else:\n",
    "            if x_train[i] <= node_splits[index]:\n",
    "                index = index * 2\n",
    "            else:\n",
    "                index = index * 2 + 1\n",
    "\n",
    "\n",
    "#root mean squared error for training dataset\n",
    "RMSE = np.sqrt(np.mean((y_train - y_predicted)**2))\n",
    "print(f\"RMSE is {RMSE} when P is {P}\")"
   ]
  },
  {
   "cell_type": "code",
   "execution_count": 79,
   "id": "0fc3c2aa",
   "metadata": {},
   "outputs": [
    {
     "name": "stdout",
     "output_type": "stream",
     "text": [
      "RMSE is 6.454083413352087 when P is 25\n"
     ]
    }
   ],
   "source": [
    "y_predicted = np.repeat(0.0 , len(y_test))\n",
    "\n",
    "for i in range(len(y_test)):\n",
    "    index = 1\n",
    "    while True:\n",
    "        if is_terminal[index] == True:\n",
    "            y_predicted[i] = node_predictions[index]\n",
    "            break\n",
    "        else:\n",
    "            if x_test[i] <= node_splits[index]:\n",
    "                index = index * 2\n",
    "            else:\n",
    "                index = index * 2 + 1\n",
    "\n",
    "\n",
    "#root mean squared error for test dataset\n",
    "RMSE = np.sqrt(np.mean((y_test - y_predicted)**2))\n",
    "print(f\"RMSE is {RMSE} when P is {P}\")"
   ]
  },
  {
   "cell_type": "code",
   "execution_count": 80,
   "id": "d117733f",
   "metadata": {},
   "outputs": [],
   "source": [
    "RMSE_values_test = {}\n",
    "for P in np.linspace(5 , 50, 10):\n",
    "    is_terminal, node_splits, node_predictions = decision_tree(P)\n",
    "    \n",
    "    y_predicted = np.repeat(0.0 , len(y_test))\n",
    "\n",
    "    for i in range(len(y_test)):\n",
    "        index = 1\n",
    "        while True:\n",
    "            if is_terminal[index] == True:\n",
    "                y_predicted[i] = node_predictions[index]\n",
    "                break\n",
    "            else:\n",
    "                if x_test[i] <= node_splits[index]:\n",
    "                    index = index * 2\n",
    "                else:\n",
    "                    index = index * 2 + 1\n",
    "    RMSE = np.round(np.sqrt(np.mean((y_test - y_predicted)**2)), 4)\n",
    "    \n",
    "    RMSE_values_test[P] = RMSE"
   ]
  },
  {
   "cell_type": "code",
   "execution_count": 83,
   "id": "52097b83",
   "metadata": {},
   "outputs": [],
   "source": [
    "RMSE_values_train = {}\n",
    "for P in np.linspace(5 , 50, 10):\n",
    "    is_terminal, node_splits, node_predictions = decision_tree(P)\n",
    "    \n",
    "    y_predicted = np.repeat(0.0 , len(y_train))\n",
    "\n",
    "    for i in range(len(y_train)):\n",
    "        index = 1\n",
    "        while True:\n",
    "            if is_terminal[index] == True:\n",
    "                y_predicted[i] = node_predictions[index]\n",
    "                break\n",
    "            else:\n",
    "                if x_train[i] <= node_splits[index]:\n",
    "                    index = index * 2\n",
    "                else:\n",
    "                    index = index * 2 + 1\n",
    "    RMSE = np.round(np.sqrt(np.mean((y_train - y_predicted)**2)), 4)\n",
    "    \n",
    "    RMSE_values_train[P] = RMSE"
   ]
  },
  {
   "cell_type": "code",
   "execution_count": 91,
   "id": "e4f4c5bb",
   "metadata": {},
   "outputs": [
    {
     "data": {
      "text/plain": [
       "[<matplotlib.lines.Line2D at 0x11f8c5070>]"
      ]
     },
     "execution_count": 91,
     "metadata": {},
     "output_type": "execute_result"
    },
    {
     "data": {
      "image/png": "[encoded data removed]",
      "text/plain": [
       "<Figure size 720x720 with 1 Axes>"
      ]
     },
     "metadata": {
      "needs_background": "light"
     },
     "output_type": "display_data"
    }
   ],
   "source": [
    "plt.figure(figsize = (10, 10))\n",
    "plt.plot(RMSE_values_test.keys(), RMSE_values_test.values(), \"r-o\")\n",
    "plt.plot(RMSE_values_train.keys(), RMSE_values_train.values(), \"b-o\")"
   ]
  },
  {
   "cell_type": "code",
   "execution_count": null,
   "id": "328c222a",
   "metadata": {},
   "outputs": [],
   "source": []
  }
 ],
 "metadata": {
  "kernelspec": {
   "display_name": "Python 3 (ipykernel)",
   "language": "python",
   "name": "python3"
  },
  "language_info": {
   "codemirror_mode": {
    "name": "ipython",
    "version": 3
   },
   "file_extension": ".py",
   "mimetype": "text/x-python",
   "name": "python",
   "nbconvert_exporter": "python",
   "pygments_lexer": "ipython3",
   "version": "3.8.2"
  }
 },
 "nbformat": 4,
 "nbformat_minor": 5
}